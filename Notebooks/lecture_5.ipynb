{
 "cells": [
  {
   "cell_type": "markdown",
   "metadata": {},
   "source": [
    "## Operators in Python\n",
    "python provide different operations to perform computations and logical operators"
   ]
  },
  {
   "cell_type": "markdown",
   "metadata": {},
   "source": [
    "# Assignment Operators\n",
    "Assignment operators are use to assign values to variables For example **=** assigns a values and **+=** adds and assign"
   ]
  },
  {
   "cell_type": "code",
   "execution_count": null,
   "metadata": {},
   "outputs": [
    {
     "name": "stdout",
     "output_type": "stream",
     "text": [
      "x= 8\n"
     ]
    }
   ],
   "source": [
    "# Assignment operator\n",
    "# =,+=,-=,*=,/=,%=,**=,//=\n",
    "x=5 # assigning value\n",
    "x+=3 #eqvilant to x=x+3\n",
    "print(\"x=\",x)"
   ]
  },
  {
   "cell_type": "markdown",
   "metadata": {},
   "source": [
    "# Arithmetic Operators\n",
    "Arithmetic operators are use for mathematical operations like addition , subtraction , multiplication , division etc"
   ]
  },
  {
   "cell_type": "code",
   "execution_count": 2,
   "metadata": {},
   "outputs": [
    {
     "name": "stdout",
     "output_type": "stream",
     "text": [
      "addition= 13\n",
      "subtraction= 7\n",
      "multiplication= 30\n",
      "division= 3.3333333333333335\n",
      "modulus= 1\n",
      "exponent= 1000\n",
      "floor division= 3\n"
     ]
    }
   ],
   "source": [
    "#Arithmetic operators\n",
    "a,b=10,3\n",
    "print(\"addition=\",a+b)\n",
    "print(\"subtraction=\",a-b)\n",
    "print(\"multiplication=\",a*b)    \n",
    "print(\"division=\",a/b)\n",
    "print(\"modulus=\",a%b)\n",
    "print(\"exponent=\",a**b)\n",
    "print(\"floor division=\",a//b)\n"
   ]
  },
  {
   "cell_type": "markdown",
   "metadata": {},
   "source": [
    "# Comparision Operators\n",
    "Comparision operators compare values and return True or False"
   ]
  },
  {
   "cell_type": "code",
   "execution_count": 4,
   "metadata": {},
   "outputs": [
    {
     "name": "stdout",
     "output_type": "stream",
     "text": [
      "x > y is False\n",
      "x < y is True\n",
      "x == y is False\n",
      "x != y is True\n",
      "x >= y is False\n",
      "x <= y is True\n"
     ]
    }
   ],
   "source": [
    "# Comparison operators\n",
    "x,y=5,10\n",
    "print(\"x > y is\",x>y)\n",
    "print(\"x < y is\",x<y)\n",
    "print(\"x == y is\",x==y)\n",
    "print(\"x != y is\",x!=y)\n",
    "print(\"x >= y is\",x>=y)\n",
    "print(\"x <= y is\",x<=y)\n",
    "\n"
   ]
  },
  {
   "cell_type": "markdown",
   "metadata": {},
   "source": [
    "# Logical Operators\n",
    "Logical operators and , or , not are used to combine multiple conditions"
   ]
  },
  {
   "cell_type": "code",
   "execution_count": 5,
   "metadata": {},
   "outputs": [
    {
     "name": "stdout",
     "output_type": "stream",
     "text": [
      "a and b is False\n",
      "a or b is True\n",
      "not a is False\n"
     ]
    }
   ],
   "source": [
    "# Logical Operators \n",
    "a,b= True,False\n",
    "print(\"a and b is\",a and b)\n",
    "print(\"a or b is\",a or b)\n",
    "print(\"not a is\",not a)\n"
   ]
  }
 ],
 "metadata": {
  "kernelspec": {
   "display_name": "Python 3",
   "language": "python",
   "name": "python3"
  },
  "language_info": {
   "codemirror_mode": {
    "name": "ipython",
    "version": 3
   },
   "file_extension": ".py",
   "mimetype": "text/x-python",
   "name": "python",
   "nbconvert_exporter": "python",
   "pygments_lexer": "ipython3",
   "version": "3.10.16"
  }
 },
 "nbformat": 4,
 "nbformat_minor": 2
}
