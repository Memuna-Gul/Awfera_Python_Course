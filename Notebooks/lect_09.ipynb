{
 "cells": [
  {
   "cell_type": "markdown",
   "id": "fd2d29e4",
   "metadata": {},
   "source": [
    "# Defining a Function in Python"
   ]
  },
  {
   "cell_type": "markdown",
   "id": "c469c6e5",
   "metadata": {},
   "source": [
    "A function is a block of reusable code that perform a specific task, instead of writing the same instructions repeatedly we define a function once and call it when needed"
   ]
  },
  {
   "cell_type": "markdown",
   "id": "7749b8d0",
   "metadata": {},
   "source": [
    "## Key Components of Function"
   ]
  },
  {
   "cell_type": "markdown",
   "id": "3794f93e",
   "metadata": {},
   "source": [
    "1. `def` A keyword that marks the begining of function\n",
    "2. `function_name` A unique name for identifing a fucntion\n",
    "3. `parameters (optional)` values passed to the function for processing\n",
    "4. `: (colon)` marks the end of function header \n",
    "5. `function body` contains the logic that the function executes \n",
    "6. '''docstrings''' used to describe what the function does\n",
    "7. `return (optional)` return a results to a caller \n",
    "   "
   ]
  },
  {
   "cell_type": "code",
   "execution_count": 4,
   "id": "d8f2138b",
   "metadata": {},
   "outputs": [
    {
     "name": "stdout",
     "output_type": "stream",
     "text": [
      "Number 1: 5\n",
      "Number 2: 6\n",
      "Result: 11\n"
     ]
    }
   ],
   "source": [
    "#define a function name \"add\" that takes two numbers as parameters\n",
    "def add(num1,num2):\n",
    "    \"\"\"This function takes two numbers , add them and return the result\"\"\"\n",
    "    print(\"Number 1:\",num1) #print the value of num1\n",
    "    print(\"Number 2:\",num2) #print the value of num2\n",
    "    addition=num1+num2     #add num1 and num2\n",
    "    return addition     #return the addition\n",
    "\n",
    "res=add(5,6) #call the function \"add\" with 2 parameters 5 and 6\n",
    "print(\"Result:\",res)"
   ]
  },
  {
   "cell_type": "markdown",
   "id": "518c46f2",
   "metadata": {},
   "source": [
    "Functions can be define without parameters"
   ]
  },
  {
   "cell_type": "code",
   "execution_count": null,
   "id": "e61f3096",
   "metadata": {},
   "outputs": [
    {
     "name": "stdout",
     "output_type": "stream",
     "text": [
      "welcome to awfera's python programming series\n"
     ]
    }
   ],
   "source": [
    "#Define a function name Greet to print a welcome message \n",
    "def greet(): #define the function without parameters\n",
    "    print(\"welcome to awfera's python programming series\")\n",
    "\n",
    "greet() #calling the function\n"
   ]
  },
  {
   "cell_type": "markdown",
   "id": "9570c37f",
   "metadata": {},
   "source": [
    "## Function arguments and Return statement"
   ]
  },
  {
   "cell_type": "markdown",
   "id": "47a60e99",
   "metadata": {},
   "source": [
    "Function arguments allows us to pass value into a function, making it more flexible and reusable . There are **fours types of arguments**"
   ]
  },
  {
   "cell_type": "markdown",
   "id": "13c2f5a3",
   "metadata": {},
   "source": [
    "1. Default arguments\n",
    "2. keyword arguments\n",
    "3. Reqired arguments\n",
    "4. Variable length arguments\n",
    "   "
   ]
  },
  {
   "cell_type": "code",
   "execution_count": 6,
   "id": "c6c56289",
   "metadata": {},
   "outputs": [
    {
     "name": "stdout",
     "output_type": "stream",
     "text": [
      "Hello Amy John Dore\n"
     ]
    }
   ],
   "source": [
    "#Function with default arguments\n",
    "def name(fname,mname=\"John\",lname=\"Dore\"): #define the function with default arguments\n",
    "    print(\"Hello\",fname,mname,lname)\n",
    "\n",
    "name(\"Amy\") #calling the function with one parameter"
   ]
  },
  {
   "cell_type": "code",
   "execution_count": 7,
   "id": "61914ea4",
   "metadata": {},
   "outputs": [
    {
     "name": "stdout",
     "output_type": "stream",
     "text": [
      "Hello John Amy Dore\n"
     ]
    }
   ],
   "source": [
    "#Function with keyword arguments \n",
    "def name(fname,mname,lname): #define the function with keyword arguments\n",
    "    print(\"Hello\",fname,mname,lname)\n",
    "\n",
    "name(mname=\"Amy\",fname=\"John\",lname=\"Dore\") #calling the function with keyword arguments\n"
   ]
  },
  {
   "cell_type": "code",
   "execution_count": 10,
   "id": "3b203644",
   "metadata": {},
   "outputs": [
    {
     "name": "stdout",
     "output_type": "stream",
     "text": [
      "hello Amy John Dore\n",
      "hello Dore John Amy\n"
     ]
    }
   ],
   "source": [
    "#Function with *arg (tuple of arguments)\n",
    "def name(*arg): #define the function with *arg (tuple of arguments)\n",
    "    print(\"hello\",arg[0],arg[1],arg[2])\n",
    "    print(\"hello\",arg[2],arg[1],arg[0])\n",
    "\n",
    "name(\"Amy\",\"John\",\"Dore\") #calling the function with *arg (tuple of arguments)"
   ]
  },
  {
   "cell_type": "code",
   "execution_count": 11,
   "id": "c9f085bb",
   "metadata": {},
   "outputs": [
    {
     "name": "stdout",
     "output_type": "stream",
     "text": [
      "hello Amy John Dore\n"
     ]
    }
   ],
   "source": [
    "#Function returning a full name \n",
    "def name(fname,mname,lname): \n",
    "    return \"hello\" + \" \" +fname+\" \"+mname+\" \"+lname\n",
    "\n",
    "print(name(\"Amy\",\"John\",\"Dore\"))"
   ]
  }
 ],
 "metadata": {
  "kernelspec": {
   "display_name": "Python 3",
   "language": "python",
   "name": "python3"
  },
  "language_info": {
   "codemirror_mode": {
    "name": "ipython",
    "version": 3
   },
   "file_extension": ".py",
   "mimetype": "text/x-python",
   "name": "python",
   "nbconvert_exporter": "python",
   "pygments_lexer": "ipython3",
   "version": "3.13.2"
  }
 },
 "nbformat": 4,
 "nbformat_minor": 5
}
