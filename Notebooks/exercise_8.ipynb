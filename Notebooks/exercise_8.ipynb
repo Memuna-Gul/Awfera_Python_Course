{
 "cells": [
  {
   "cell_type": "markdown",
   "metadata": {},
   "source": [
    "# **Exercise 8 Built-in Functions**\n",
    "\n",
    "## 1️⃣ Find the Longest Word\n",
    "Write a program that takes a list of words and uses a **built-in function** to find and print the **longest word**.\n",
    "\n",
    "### Example Input:\n",
    "\n",
    "`words = [\"Python\", \"Programming\", \"Code\", \"Functions\"]`\n",
    "\n",
    "### Expected Output: \n",
    "\n",
    "`The Longest word is Programming`"
   ]
  },
  {
   "cell_type": "code",
   "execution_count": 3,
   "metadata": {},
   "outputs": [
    {
     "name": "stdout",
     "output_type": "stream",
     "text": [
      "Python has 6 letters\n",
      "Programming has 11 letters\n",
      "Code has 4 letters\n",
      "Functions has 9 letters\n",
      "The Longest word is Programming\n"
     ]
    }
   ],
   "source": [
    "# program to print the length of each word in a list and the longest word in the list\n",
    "\n",
    "words = [\"Python\", \"Programming\", \"Code\", \"Functions\"]\n",
    "for i in words: #iterate over list\n",
    "    word_length=len(i) #get length of each word\n",
    "    print(f\"{i} has {word_length} letters\")  #print word and length\n",
    "\n",
    "print(f\"The Longest word is {max(words, key=len)}\") #print longest word using max() function\n",
    "\n"
   ]
  },
  {
   "cell_type": "markdown",
   "metadata": {},
   "source": [
    "## 2️⃣ Count the Vowels\n",
    "Write a program that takes a **sentence** as input and uses a **built-in function** to count the number of **vowels (a, e, i, o, u)** in it.\n",
    "\n",
    "### Example Input:\n",
    "\n",
    "`sentence = \"Functions make coding easier\"`\n",
    "\n",
    "### Expected Output:\n",
    "\n",
    "`Number of vowels: 10`\n"
   ]
  },
  {
   "cell_type": "code",
   "execution_count": 10,
   "metadata": {},
   "outputs": [
    {
     "name": "stdout",
     "output_type": "stream",
     "text": [
      "The number of vowels in the sentence is 11\n"
     ]
    }
   ],
   "source": [
    "# Program that count the number of vowels in a sentence\n",
    "sentence=\"Functions make coding easier\"\n",
    "vowels=\"aeiou\" #list of vowels\n",
    "count=0 #initialize count to 0\n",
    "for char in sentence.lower(): #iterate over sentence to get each character\n",
    "    if char in vowels:  #check if character is a vowel\n",
    "        count+=1    #increment count if character is a vowel\n",
    "print(f\"The number of vowels in the sentence is {count}\")   #print count of vowels"
   ]
  },
  {
   "cell_type": "markdown",
   "metadata": {},
   "source": [
    "## 3️⃣ Find the Largest Number\n",
    "Write a program that asks the user to enter **five numbers**, stores them in a list, and then finds the **largest number** using a built-in function.\n",
    "\n",
    "### Example Input:\n",
    "\n",
    "`numbers = [12, 45, 67, 23, 89]`\n",
    "\n",
    "### Expected Output:\n",
    "\n",
    "`The largest number is: 89`\n"
   ]
  },
  {
   "cell_type": "code",
   "execution_count": 5,
   "metadata": {},
   "outputs": [
    {
     "name": "stdout",
     "output_type": "stream",
     "text": [
      "The Largest number is: 89\n"
     ]
    }
   ],
   "source": [
    "# list of numbers\n",
    "numbers=[12,45,67,23,89]\n",
    "larger_num=max(numbers) #get the largest number in the list\n",
    "print(f\"The Largest number is: {larger_num}\") #print the largest number\n"
   ]
  },
  {
   "cell_type": "markdown",
   "metadata": {},
   "source": [
    "## 4️⃣ Sort Prices in Descending Order\n",
    "Write a program that takes a list of **food prices** from a restaurant menu and **sorts them from highest to lowest** using a built-in function.\n",
    "\n",
    "### Example Input:\n",
    "\n",
    "`prices = [15, 40, 10, 25, 30]`\n",
    "\n",
    "### Expected Output: \n",
    "\n",
    "`Sorted prices (high to low): [40, 30, 25, 15, 10]`\n",
    "\n"
   ]
  },
  {
   "cell_type": "code",
   "execution_count": 7,
   "metadata": {},
   "outputs": [
    {
     "name": "stdout",
     "output_type": "stream",
     "text": [
      "Sorted Prices (High to Low): [40, 30, 25, 15, 10]\n"
     ]
    }
   ],
   "source": [
    "# list of prices\n",
    "prices=[15,40,10,25,30]\n",
    "sorted_price=sorted(prices, reverse=True) #sort the prices in descending order\n",
    "print(f\"Sorted Prices (High to Low): {sorted_price}\") #print the sorted prices"
   ]
  }
 ],
 "metadata": {
  "kernelspec": {
   "display_name": "Python 3",
   "language": "python",
   "name": "python3"
  },
  "language_info": {
   "codemirror_mode": {
    "name": "ipython",
    "version": 3
   },
   "file_extension": ".py",
   "mimetype": "text/x-python",
   "name": "python",
   "nbconvert_exporter": "python",
   "pygments_lexer": "ipython3",
   "version": "3.10.16"
  }
 },
 "nbformat": 4,
 "nbformat_minor": 2
}
