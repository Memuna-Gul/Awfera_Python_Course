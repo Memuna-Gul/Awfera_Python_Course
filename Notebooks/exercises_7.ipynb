{
 "cells": [
  {
   "cell_type": "markdown",
   "metadata": {},
   "source": [
    "# **Exercise 7 of Conditional Statements**\n",
    "\n"
   ]
  },
  {
   "cell_type": "markdown",
   "metadata": {},
   "source": [
    "### **Beginner Level**"
   ]
  },
  {
   "cell_type": "markdown",
   "metadata": {},
   "source": [
    "1️⃣ Traffic Light System(Basic) , Write a program that ask for a traffic light color(**Green, Yellow, Red**) and print the correct action\n",
    "   - Green → (**You can GO!**)\n",
    "   - Yellow → (**Slow down and prepare to STOP!**)\n",
    "   - Red → (**STOP!**)"
   ]
  },
  {
   "cell_type": "code",
   "execution_count": 3,
   "metadata": {},
   "outputs": [
    {
     "name": "stdout",
     "output_type": "stream",
     "text": [
      "Slow Down and prepare to STOP! \n"
     ]
    }
   ],
   "source": [
    "# program to simulate a traffic light\n",
    "traffic_light_color=input(\"Enter the traffic light Color: \").lower()\n",
    "if traffic_light_color==\"green\":\n",
    "    print(\"You can GO! \") # the output will be \"You can GO!\"\n",
    "elif traffic_light_color==\"yellow\":\n",
    "    print(\"Slow Down and prepare to STOP! \") # the output will be \"Slow Down and preapre to Slow down and prepare to STOP!\"\n",
    "else:\n",
    "    print(\"STOP! \") # the output will be \"STOP!\"\n"
   ]
  },
  {
   "cell_type": "markdown",
   "metadata": {},
   "source": [
    "2️⃣ **Sport Team Eligibility** Write a program that ask the user for their age and checks if they are **eligible to join the basketball team**(Age 12 or Older)"
   ]
  },
  {
   "cell_type": "code",
   "execution_count": 6,
   "metadata": {},
   "outputs": [
    {
     "name": "stdout",
     "output_type": "stream",
     "text": [
      "You are eligible to join the basketball team\n"
     ]
    }
   ],
   "source": [
    "# Sport Team Eligibility Program \n",
    "age=int(input(\"Enter your age: \"))\n",
    "if age>=12:  # if the age is greater than or equal to 12 then the output will be \"You are eligible to join the basketball team\"\n",
    "    print(\"You are eligible to join the basketball team\") \n",
    "else:\n",
    "    print(\"You are not eligible to join the basketball team\")"
   ]
  },
  {
   "cell_type": "markdown",
   "metadata": {},
   "source": [
    "### **Intermediate Level Using `if`-`elif`-`else`**"
   ]
  },
  {
   "cell_type": "markdown",
   "metadata": {},
   "source": [
    "3️⃣ **Categorizing Temperature Levels** Write a program that takes a temperature(C) and print weather it's:\n",
    "  - Above 30 C → `\"Its a hot outside\"`\n",
    "  - Between 15 C and 30 C → `\"It's Pleasent Weather\"`\n",
    "  - Below 15 C →`\"Its Cold Outside\"`"
   ]
  },
  {
   "cell_type": "code",
   "execution_count": 9,
   "metadata": {},
   "outputs": [
    {
     "name": "stdout",
     "output_type": "stream",
     "text": [
      "Its a pleasent weather\n"
     ]
    }
   ],
   "source": [
    "temperature=int(input(\"Enter the temperature: \")) # input the temperature\n",
    "if temperature<15: # if the temperature is less than 15 then the output will be \"It is cold\"\n",
    "    print(\"It is cold outside\")\n",
    "elif temperature>=15 and temperature<=30:\n",
    "    print(\"Its a pleasent weather\") # if the temperature is between 15 and 30 then the output will be \"Its a pleasent weather\" \n",
    "else:\n",
    "    print(\"It is hot outside\") # if the temperature is greater than 30 then the output will be \"It is hot outside\""
   ]
  },
  {
   "cell_type": "markdown",
   "metadata": {},
   "source": [
    "4️⃣ **Exam Pass or Fail** Write a program that asks for a student's exam score(0-100) and assign a **grade**:     \n",
    "  - 90-100 → `\"Grade A\"`\n",
    "  - 80-89 → `\"Grade B\"`\n",
    "  - 70-79 → `\"Grade C\"`\n",
    "  - 60-69  →`\"Grade D\"`\n",
    "  - Below 60 → `\"Grade F\"`\n",
    "  "
   ]
  },
  {
   "cell_type": "code",
   "execution_count": 7,
   "metadata": {},
   "outputs": [
    {
     "name": "stdout",
     "output_type": "stream",
     "text": [
      "Grade D\n"
     ]
    }
   ],
   "source": [
    "exam_score=int(input(\"Enter your exam score: \")) # input the exam score\n",
    "if exam_score>=90 and exam_score<=100: # if the exam score is between 90 and 100 then the output will be \"Grade A\"\n",
    "    print(\"Grade A\")\n",
    "elif exam_score>=80 and exam_score<90:\n",
    "    print(\"Grade B\") # if the exam score is between 80 and 90 then the output will be \"Grade B\"\n",
    "elif exam_score>=70 and exam_score<80:\n",
    "    print(\"Grade C\") # if the exam score is between 70 and 80 then the output will be \"Grade C\"\n",
    "elif exam_score>=60 and exam_score<70:\n",
    "    print(\"Grade D\") # if the exam score is between 60 and 70 then the output will be \"Grade D\"\n",
    "else:\n",
    "    print(\"Grade F\") # if the exam score is less than 60 then the output will be \"Grade F\""
   ]
  },
  {
   "cell_type": "markdown",
   "metadata": {},
   "source": [
    "### **Advance Level Using Conditions and Logic**\n"
   ]
  },
  {
   "cell_type": "markdown",
   "metadata": {},
   "source": [
    "5️⃣ **Checking Leap Year** Write a Program that ask for a Year and check's weather its a **leap year or not**\n",
    "\n",
    "**Hint:** A year is a leap year if \n",
    "- it is divisble by 4 \n",
    "- but not divisible by 100, unless also divisible by 400"
   ]
  },
  {
   "cell_type": "code",
   "execution_count": 16,
   "metadata": {},
   "outputs": [
    {
     "name": "stdout",
     "output_type": "stream",
     "text": [
      "Leap year\n"
     ]
    }
   ],
   "source": [
    "year=int(input(\"Enter the year: \")) # input the year\n",
    "if (year%4==0 and year%100 !=0) or (year%400 ==0): # if the year is divisible by 4 and not divisible by 100 or the year is divisible by 400 then the output will be \"Leap year\"\n",
    "    print(\"Leap year\")\n",
    "else:\n",
    "    print(\"Not a Leap year\") # if the year is not divisible by 4 and not divisible by 100 or the year is not divisible by 400 then the output will be \"Not a Leap year\""
   ]
  },
  {
   "cell_type": "markdown",
   "metadata": {},
   "source": [
    "6️⃣ **ATM Cash Withdrawal System** Write a Program that :\n",
    "- Ask a User for a withdrawal ammount\n",
    "- check if the account balance is sufficient \n",
    "- if the balance is enough deduct , and print the new balance"
   ]
  },
  {
   "cell_type": "code",
   "execution_count": 11,
   "metadata": {},
   "outputs": [
    {
     "name": "stdout",
     "output_type": "stream",
     "text": [
      "Withdrawal Successful\n",
      "new balance is:  350\n"
     ]
    }
   ],
   "source": [
    "total_balance=1000 # initial balance\n",
    "withdrawal_amount=int(input(\"Enter the amount you want to withdraw: \")) # input the amount you want to withdraw\n",
    "if withdrawal_amount<=total_balance: # if the withdrawal amount is less than or equal to total balance then the output will be \"Withdrawal Successful\"\n",
    "    print(\"Withdrawal Successful\")\n",
    "    total_balance=total_balance-withdrawal_amount # the total balance will be updated after the withdrawal\n",
    "    print(\"New balance is: \",total_balance) # the new balance will be printed\n",
    "else:\n",
    "    print(\"Insufficient Balance\")\n"
   ]
  }
 ],
 "metadata": {
  "kernelspec": {
   "display_name": "Python 3",
   "language": "python",
   "name": "python3"
  },
  "language_info": {
   "codemirror_mode": {
    "name": "ipython",
    "version": 3
   },
   "file_extension": ".py",
   "mimetype": "text/x-python",
   "name": "python",
   "nbconvert_exporter": "python",
   "pygments_lexer": "ipython3",
   "version": "3.10.16"
  }
 },
 "nbformat": 4,
 "nbformat_minor": 2
}
