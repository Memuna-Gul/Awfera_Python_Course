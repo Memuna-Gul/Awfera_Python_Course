{
 "cells": [
  {
   "cell_type": "markdown",
   "id": "d9d1beb6",
   "metadata": {},
   "source": [
    "  # **Global Vs Local Variables**"
   ]
  },
  {
   "cell_type": "code",
   "execution_count": 1,
   "id": "ade018f2",
   "metadata": {},
   "outputs": [
    {
     "name": "stdout",
     "output_type": "stream",
     "text": [
      "Inside Function: x=10 y=5\n",
      "Outside Function: x=10\n"
     ]
    }
   ],
   "source": [
    "x=10 #global variable\n",
    "\n",
    "def my_function():\n",
    "    y=5 #local variable\n",
    "    print(f\"Inside Function: x={x} y={y}\")\n",
    "\n",
    "my_function()\n",
    "print(f\"Outside Function: x={x}\") #y cannot be accessed outside the function"
   ]
  },
  {
   "cell_type": "markdown",
   "id": "aa3bd946",
   "metadata": {},
   "source": [
    "## **How Python Handles Variable Scope ?**"
   ]
  },
  {
   "cell_type": "markdown",
   "id": "56c57e58",
   "metadata": {},
   "source": [
    "Python follows the **LEGB(Local , Enclosing , Global , Built-in)** rule to determine variable scope\n",
    "\n",
    "1️⃣**Local(L)** Variables declared inside a function\n",
    "\n",
    "2️⃣**Enclosing(E)** Variable in enclosing function nested function\n",
    "\n",
    "3️⃣**Global(G)** Variables declared at the top level of a script\n",
    "\n",
    "4️⃣**Built-in(B)** Predefined variables in python(e.g `print`,`len`)"
   ]
  },
  {
   "cell_type": "code",
   "execution_count": 2,
   "id": "933e6e15",
   "metadata": {},
   "outputs": [
    {
     "name": "stdout",
     "output_type": "stream",
     "text": [
      "inside inner function: Local\n",
      "inside outer function: enclosing\n",
      "outside outer function: global\n"
     ]
    }
   ],
   "source": [
    "# LEGB rule in action \n",
    "\n",
    "x=\"global\" #global variable\n",
    "\n",
    "def outer_function():\n",
    "    x=\"enclosing\" #Enclosing variable\n",
    "    def inner_function():\n",
    "        x=\"Local\" #Local variable\n",
    "        print('inside inner function:',x) #prints local variable\n",
    "    inner_function()\n",
    "    print('inside outer function:',x) #prints enclosing variable\n",
    "\n",
    "outer_function()\n",
    "print('outside outer function:',x) #prints global variable"
   ]
  },
  {
   "cell_type": "markdown",
   "id": "1a7fc66d",
   "metadata": {},
   "source": [
    "## **Modifying global variable inside a function**\n",
    "\n",
    "To Modify global variable inside a function , we must use the `global ` keyword"
   ]
  },
  {
   "cell_type": "code",
   "execution_count": 5,
   "id": "d268bd43",
   "metadata": {},
   "outputs": [
    {
     "name": "stdout",
     "output_type": "stream",
     "text": [
      "updated counter: 1\n"
     ]
    }
   ],
   "source": [
    "counter=0 #global variable\n",
    "def increment(): \n",
    "    global counter #explicitly modifying global variable\n",
    "    counter=counter+1\n",
    "\n",
    "increment()\n",
    "print(\"updated counter:\",counter) \n"
   ]
  },
  {
   "cell_type": "markdown",
   "id": "2de221bb",
   "metadata": {},
   "source": [
    "## **Best practiced for using Global and Local Variablles**\n",
    "\n",
    "- Prefer **Local Variables** whenever possible to avoid unintended side effects\n",
    "  \n",
    "- Minimize the use of `global` variables to keep code modular and maintainable \n",
    "  \n",
    "- Use **function arguments** to pass values instead of relying on global state\n"
   ]
  },
  {
   "cell_type": "markdown",
   "id": "9e30afbf",
   "metadata": {},
   "source": [
    "## **Understanding `is` (Identity Comparision)**\n",
    "\n",
    "The `is` Operator checks if two variables refer to the same object in memory \n"
   ]
  },
  {
   "cell_type": "code",
   "execution_count": null,
   "id": "b44a89aa",
   "metadata": {},
   "outputs": [
    {
     "name": "stdout",
     "output_type": "stream",
     "text": [
      "True\n",
      "False\n"
     ]
    }
   ],
   "source": [
    "a=[1,2,3]\n",
    "b= a #both point to the same object\n",
    "c=[1,2,3] #different object with same values\n",
    "\n",
    "print(a is b) #True\n",
    "print(a is c) #False"
   ]
  },
  {
   "cell_type": "markdown",
   "id": "46ce1369",
   "metadata": {},
   "source": [
    "## **Understanding `==` (Value Comparision)** \n",
    "\n",
    "The `==` operator compares the values of two objects\n"
   ]
  },
  {
   "cell_type": "code",
   "execution_count": 8,
   "id": "96387baf",
   "metadata": {},
   "outputs": [
    {
     "name": "stdout",
     "output_type": "stream",
     "text": [
      "True\n",
      "False\n",
      "True\n"
     ]
    }
   ],
   "source": [
    "a=[1,2,3]\n",
    "b=[1,2,3]\n",
    "c=a \n",
    "print(a==b) #True\n",
    "print(a is b)  #False\n",
    "print(c is a ) #True"
   ]
  },
  {
   "cell_type": "markdown",
   "id": "b068c8b0",
   "metadata": {},
   "source": [
    "## **Real world Scenarios where `is` and `==` matters**\n",
    "\n",
    "Senario 1: Comparing immutable objects (`is` works for small integers and strings)"
   ]
  },
  {
   "cell_type": "code",
   "execution_count": 9,
   "id": "664f4a9a",
   "metadata": {},
   "outputs": [
    {
     "name": "stdout",
     "output_type": "stream",
     "text": [
      "False\n",
      "True\n",
      "True\n"
     ]
    }
   ],
   "source": [
    "a= 1000\n",
    "b=1000\n",
    "print(a is b) #False\n",
    "\n",
    "a=255\n",
    "b=255\n",
    "print(a is b) #True (reason: python caches small integers from -5 to 256)\n",
    "\n",
    "c=10\n",
    "d=10\n",
    "print(c is d ) #True(python cache small integers)"
   ]
  },
  {
   "cell_type": "markdown",
   "id": "9d754208",
   "metadata": {},
   "source": [
    "Senario 2: Checking if a variable is `None` (`is` is preferred)"
   ]
  },
  {
   "cell_type": "code",
   "execution_count": 10,
   "id": "afd29d3f",
   "metadata": {},
   "outputs": [
    {
     "name": "stdout",
     "output_type": "stream",
     "text": [
      "x is None\n"
     ]
    }
   ],
   "source": [
    "x=None\n",
    "if x is None:\n",
    "    print(\"x is None\")\n",
    "else:\n",
    "    print(\"x is not None\")"
   ]
  },
  {
   "cell_type": "code",
   "execution_count": null,
   "id": "a7b071e1",
   "metadata": {},
   "outputs": [],
   "source": []
  }
 ],
 "metadata": {
  "kernelspec": {
   "display_name": "Python 3",
   "language": "python",
   "name": "python3"
  },
  "language_info": {
   "codemirror_mode": {
    "name": "ipython",
    "version": 3
   },
   "file_extension": ".py",
   "mimetype": "text/x-python",
   "name": "python",
   "nbconvert_exporter": "python",
   "pygments_lexer": "ipython3",
   "version": "3.13.2"
  }
 },
 "nbformat": 4,
 "nbformat_minor": 5
}
