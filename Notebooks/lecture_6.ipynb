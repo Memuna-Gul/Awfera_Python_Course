{
 "cells": [
  {
   "cell_type": "markdown",
   "metadata": {},
   "source": [
    "1. ### For Loops\n",
    "   A for loop is use to iterate over a sequence (lists, strings , tuples , dictionaries etc). It Process each element one at a time in a very readable format\n",
    "\n"
   ]
  },
  {
   "cell_type": "code",
   "execution_count": 1,
   "metadata": {},
   "outputs": [
    {
     "name": "stdout",
     "output_type": "stream",
     "text": [
      "1\n",
      "2\n",
      "3\n",
      "4\n",
      "5\n"
     ]
    }
   ],
   "source": [
    "# Example 1: Iterating over a list of numbers\n",
    "numbers=[1,2,3,4,5]  #list of numbers\n",
    "for num in numbers:   #iterating over the list\n",
    "    print(num)      #printing the number"
   ]
  },
  {
   "cell_type": "markdown",
   "metadata": {},
   "source": [
    "### Using enumerate() in For Loops\n",
    "sometimes we need both the items and its index , python's built in enumerate() function makes this easy"
   ]
  },
  {
   "cell_type": "code",
   "execution_count": null,
   "metadata": {},
   "outputs": [
    {
     "name": "stdout",
     "output_type": "stream",
     "text": [
      "Index0:apple\n",
      "Index1:banana\n",
      "Index2:cherry\n",
      "Index3:date\n"
     ]
    }
   ],
   "source": [
    "# Using enumerate() function to get the index of the elements\n",
    "\n",
    "fruits=[\"apple\",\"banana\",\"cherry\",\"date\"]  #list of fruits\n",
    "for index,fruit in enumerate(fruits):  #iterating over the list\n",
    "    print(f\"Index{index}:{fruit}\") #printing the index and fruit"
   ]
  },
  {
   "cell_type": "code",
   "execution_count": 3,
   "metadata": {},
   "outputs": [
    {
     "name": "stdout",
     "output_type": "stream",
     "text": [
      "Index0:apple\n",
      "Index1:banana\n",
      "Index2:cherry\n",
      "Index3:date\n"
     ]
    }
   ],
   "source": [
    "# print the index of the elements without using enumerate() function\n",
    "fruits=[\"apple\",\"banana\",\"cherry\",\"date\"]\n",
    "index=0\n",
    "for fruit in fruits:\n",
    "    print(f\"Index{index}:{fruit}\")\n",
    "    index+=1"
   ]
  },
  {
   "cell_type": "markdown",
   "metadata": {},
   "source": [
    "### Iterating over Dictionaries\n",
    "Dictionaries are key-value pairs , you can iterate over\n",
    "1. keys: by default a looping over dictionaries return its keys\n",
    "2. values: using .values()\n",
    "3. Key-value pairs: using .items()"
   ]
  },
  {
   "cell_type": "code",
   "execution_count": 4,
   "metadata": {},
   "outputs": [
    {
     "name": "stdout",
     "output_type": "stream",
     "text": [
      "name:John\n",
      "age:30\n",
      "city:New York\n"
     ]
    }
   ],
   "source": [
    "# Example 2: Iterating over a Dictionary\n",
    "person={\"name\":\"John\",\"age\":30,\"city\":\"New York\"}  #dictionary\n",
    "for key in person:  #iterating over the dictionary\n",
    "    print(f\"{key}:{person[key]}\")  #printing the key and value\n"
   ]
  },
  {
   "cell_type": "code",
   "execution_count": null,
   "metadata": {},
   "outputs": [
    {
     "name": "stdout",
     "output_type": "stream",
     "text": [
      "name:John\n",
      "age:30\n",
      "city:New York\n"
     ]
    }
   ],
   "source": [
    "# Iterating over key-value pairs using .items()\n",
    "person={\"name\":\"John\",\"age\":30,\"city\":\"New York\"}\n",
    "for key,value in person.items():\n",
    "    print(f\"{key}:{value}\")  #printing the key and value"
   ]
  },
  {
   "cell_type": "code",
   "execution_count": 6,
   "metadata": {},
   "outputs": [
    {
     "name": "stdout",
     "output_type": "stream",
     "text": [
      "M\n",
      "e\n",
      "m\n",
      "u\n",
      "n\n",
      "a\n",
      " \n",
      "G\n",
      "u\n",
      "l\n"
     ]
    }
   ],
   "source": [
    "# Example 3: Iterating over a string\n",
    "name=\"Memuna Gul\"  #string\n",
    "for char in name: #iterating over the string\n",
    "    print(char)  #printing the character"
   ]
  },
  {
   "cell_type": "code",
   "execution_count": 7,
   "metadata": {},
   "outputs": [
    {
     "name": "stdout",
     "output_type": "stream",
     "text": [
      "red\n",
      "green\n",
      "blue\n"
     ]
    }
   ],
   "source": [
    "# Example 4: Iterating over tuple\n",
    "colors=(\"red\",\"green\",\"blue\")  #tuple\n",
    "for color in colors:  #iterating over the tuple\n",
    "    print(color)  #printing the color"
   ]
  },
  {
   "cell_type": "code",
   "execution_count": 8,
   "metadata": {},
   "outputs": [
    {
     "name": "stdout",
     "output_type": "stream",
     "text": [
      "2\n",
      "4\n",
      "6\n",
      "8\n",
      "10\n"
     ]
    }
   ],
   "source": [
    "# Example 5: Iterating over a set\n",
    "even={2,4,6,8,10}  #set\n",
    "for num in even:  #iterating over the set\n",
    "    print(num)  #printing the number"
   ]
  },
  {
   "cell_type": "markdown",
   "metadata": {},
   "source": [
    "## While Loop\n",
    "The while loop runs as long as specified condition is True\n"
   ]
  },
  {
   "cell_type": "code",
   "execution_count": 11,
   "metadata": {},
   "outputs": [
    {
     "name": "stdout",
     "output_type": "stream",
     "text": [
      "count is 0\n",
      "count is 1\n",
      "count is 2\n",
      "count is 3\n",
      "count is 4\n"
     ]
    }
   ],
   "source": [
    "# A basic while loop that counts from 0 to 4 \n",
    "count=0 #initializing the count\n",
    "while count<5: \n",
    "    print(\"count is\",count) #printing the count\n",
    "    count+=1"
   ]
  },
  {
   "cell_type": "markdown",
   "metadata": {},
   "source": [
    "### Loop Control Statements\n",
    "1. Break \n",
    "2. Continue\n",
    "3. Else"
   ]
  },
  {
   "cell_type": "code",
   "execution_count": 13,
   "metadata": {},
   "outputs": [
    {
     "name": "stdout",
     "output_type": "stream",
     "text": [
      "current number is 0\n",
      "current number is 1\n",
      "current number is 2\n",
      "current number is 3\n",
      "skipping 4\n",
      "current number is 5\n",
      "current number is 6\n",
      "breaking at 7\n"
     ]
    }
   ],
   "source": [
    "# Example using break , continue and else in a loop\n",
    "for i in range(10): # 0 to 9\n",
    "    if i==4:\n",
    "        print(\"skipping 4\")\n",
    "        continue\n",
    "    if i==7:\n",
    "        print(\"breaking at 7\")\n",
    "        break\n",
    "    print(\"current number is\",i)\n",
    "else:\n",
    "    print(\"loop completed\")\n"
   ]
  },
  {
   "cell_type": "markdown",
   "metadata": {},
   "source": [
    "## Best Coding practices with loops\n",
    "1. Simplicity(keep loops simple and readable)\n",
    "2. Naming(use meaningfull variable names)\n",
    "3. Comment you code(document complex loops logic)\n",
    "4. Built-in functions(utlize enumerate(), zip()etc )\n",
    "5. Safety(guard against infinite loop)"
   ]
  }
 ],
 "metadata": {
  "kernelspec": {
   "display_name": "Python 3",
   "language": "python",
   "name": "python3"
  },
  "language_info": {
   "codemirror_mode": {
    "name": "ipython",
    "version": 3
   },
   "file_extension": ".py",
   "mimetype": "text/x-python",
   "name": "python",
   "nbconvert_exporter": "python",
   "pygments_lexer": "ipython3",
   "version": "3.10.16"
  }
 },
 "nbformat": 4,
 "nbformat_minor": 2
}
