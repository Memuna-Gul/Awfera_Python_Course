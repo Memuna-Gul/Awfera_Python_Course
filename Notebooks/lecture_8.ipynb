{
 "cells": [
  {
   "cell_type": "markdown",
   "metadata": {},
   "source": [
    "# **What are Functions?**\n",
    "\n",
    "A function is a reuseable block of code designed to perform instead of writing the same code multiple times. we can define a functions once and use it whenever needed, Function helps break down a large program into smalller,manageable parts , making it easier to read , debugg and maintain \n",
    "\n",
    "when a function is called it runs the set of instructions inside it and can return a result if needed"
   ]
  },
  {
   "cell_type": "markdown",
   "metadata": {},
   "source": [
    "# **Hard to Understand? Lets Use Real World Example**\n",
    "\n",
    "Imagine that a chef works in a restaurant, and he gets repeated orders of recipes. The chef has two options:\n",
    "\n",
    "- **Option 1**: He takes a recipe book, and every time he gets an order, he writes down the steps of that order and starts making the recipe.\n",
    "- **Option 2**: He writes down the recipe once and hangs it at one place. Whenever he gets an order for the same recipe, he simply follows the steps and makes the recipe.\n",
    "\n",
    "In the same way, when we need to do something repetitively in Python for a specific output, instead of writing the same lines of code again and again, we define a function. This function can be called whenever needed."
   ]
  },
  {
   "cell_type": "markdown",
   "metadata": {},
   "source": [
    "# **Benefits of Functions**\n",
    "\n",
    "Using functions in programming offers several benefits\n",
    "\n",
    "1. Code Reusability\n",
    "    > You do not need to rewrite the same code over and over again. Functions allow you to reuse the code, making your program more efficient.\n",
    "2. Concise, Clean, and Modular Code\n",
    "    > If you have multiple tasks to perform, you can create a function for each task. This makes the code more organized and easier to understand. For example, instead of writing 10 lines of code for 10 tasks, you can create functions for each and use them multiple times.\n",
    "3. Error Reduction\n",
    "    > When performing repetitive tasks, the chances of making mistakes increase. By using functions, you reduce the possibility of errors as you are calling the same code instead of re-writing it every time."
   ]
  },
  {
   "cell_type": "markdown",
   "metadata": {},
   "source": [
    "# **Types of Functions**\n",
    "\n",
    "Python has Differnet types of functions\n",
    "\n",
    "1. Built-in Functions: These are predefined functions that comes with python \n",
    "2. User-defined Functions: These are the functions created by programmers "
   ]
  },
  {
   "cell_type": "markdown",
   "metadata": {},
   "source": [
    "# **Demonstrating Built-in Functions in Python**\n",
    "\n",
    "Built-in Functions are like the **ready-made sauces and ingrediants**in restaurant , instead of makeing them from scratch , the chef **can use them directly**to speed up the cooking process. Similarly, Python provide many built-in functions that help us perform common task **without writing extra code**."
   ]
  },
  {
   "cell_type": "code",
   "execution_count": 1,
   "metadata": {},
   "outputs": [
    {
     "name": "stdout",
     "output_type": "stream",
     "text": [
      "Welcome to Python Functions!\n"
     ]
    }
   ],
   "source": [
    "# The print() display output\n",
    "print(\"Welcome to Python Functions!\")"
   ]
  },
  {
   "cell_type": "code",
   "execution_count": 3,
   "metadata": {},
   "outputs": [
    {
     "name": "stdout",
     "output_type": "stream",
     "text": [
      "Hello Memuna Gul\n"
     ]
    }
   ],
   "source": [
    "# The input() function is used to get input from the user\n",
    "name =input(\"Enter Your Name:  \")\n",
    "print(\"Hello\", name)"
   ]
  },
  {
   "cell_type": "code",
   "execution_count": 4,
   "metadata": {},
   "outputs": [
    {
     "name": "stdout",
     "output_type": "stream",
     "text": [
      "The Data type of x is :<class 'int'>\n"
     ]
    }
   ],
   "source": [
    "# The type() function is used to get the data type of a variable\n",
    "x=100\n",
    "print(f\"The Data type of x is :{type(x)}\")"
   ]
  },
  {
   "cell_type": "code",
   "execution_count": 5,
   "metadata": {},
   "outputs": [
    {
     "name": "stdout",
     "output_type": "stream",
     "text": [
      "The length of the name is :10\n"
     ]
    }
   ],
   "source": [
    "# The len() function is used to get the length of a string\n",
    "name=\"Memuna Gul\"\n",
    "print(f\"The length of the name is :{len(name)}\")"
   ]
  },
  {
   "cell_type": "code",
   "execution_count": 6,
   "metadata": {},
   "outputs": [
    {
     "name": "stdout",
     "output_type": "stream",
     "text": [
      "The maximum number in the list is :50\n"
     ]
    }
   ],
   "source": [
    "# The max() function is used to get the maximum value in a list\n",
    "numbers=[10,20,30,40,50]\n",
    "max_num=max(numbers)\n",
    "print(f\"The maximum number in the list is :{max_num}\")"
   ]
  },
  {
   "cell_type": "code",
   "execution_count": 7,
   "metadata": {},
   "outputs": [
    {
     "name": "stdout",
     "output_type": "stream",
     "text": [
      "The sorted ratings are :[2.5, 3.5, 4.0, 4.5, 5.0]\n"
     ]
    }
   ],
   "source": [
    "# The sorted() function is used to sort a list in ascending order\n",
    "ratings=[4.5,3.5,5.0,2.5,4.0]\n",
    "sorted_ratings=sorted(ratings)\n",
    "print(f\"The sorted ratings are :{sorted_ratings}\")"
   ]
  },
  {
   "cell_type": "code",
   "execution_count": 8,
   "metadata": {},
   "outputs": [
    {
     "name": "stdout",
     "output_type": "stream",
     "text": [
      "num 0\n",
      "num 1\n",
      "num 2\n",
      "num 3\n",
      "num 4\n"
     ]
    }
   ],
   "source": [
    "# Generate a sequence of numbers using the range() function\n",
    "for i in range(5):\n",
    "    print(\"num\",i)"
   ]
  },
  {
   "cell_type": "code",
   "execution_count": 9,
   "metadata": {},
   "outputs": [
    {
     "name": "stdout",
     "output_type": "stream",
     "text": [
      "The memory location of x is :2264065835536\n"
     ]
    }
   ],
   "source": [
    "# return the memory location of a variable using the id() function\n",
    "x=10\n",
    "print(f\"The memory location of x is :{id(x)}\")"
   ]
  },
  {
   "cell_type": "code",
   "execution_count": 10,
   "metadata": {},
   "outputs": [
    {
     "name": "stdout",
     "output_type": "stream",
     "text": [
      "The result of the expression is :610\n"
     ]
    }
   ],
   "source": [
    "# Evaluate an expression using the eval() function\n",
    "expression=\"10+20*30\"\n",
    "result=eval(expression)\n",
    "print(f\"The result of the expression is :{result}\")"
   ]
  }
 ],
 "metadata": {
  "kernelspec": {
   "display_name": "Python 3",
   "language": "python",
   "name": "python3"
  },
  "language_info": {
   "codemirror_mode": {
    "name": "ipython",
    "version": 3
   },
   "file_extension": ".py",
   "mimetype": "text/x-python",
   "name": "python",
   "nbconvert_exporter": "python",
   "pygments_lexer": "ipython3",
   "version": "3.10.16"
  }
 },
 "nbformat": 4,
 "nbformat_minor": 2
}
