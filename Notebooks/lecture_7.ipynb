{
 "cells": [
  {
   "cell_type": "markdown",
   "metadata": {},
   "source": [
    "## **Conditional Statements in Python**\n",
    "\n",
    "### **Topics Covered** \n",
    "\n",
    "1. _Understanding Conditions in python_ -why we need conditions?\n",
    "   \n",
    "2. _Real-World Analogy_- explain conditions by using a relatable analogy\n",
    "\n",
    "3. _Conditional Statements in python_- `if` , `else`, `elif`\n",
    "\n",
    "4. _Using Logical Operators with conditions_- `and` , `or` , `not`\n",
    "\n",
    "5. _Nested Conditions_- Handling multiple levels of decisions\n",
    "\n",
    "6. _Practice Exercises_-**Beginner,Intermediate and advance Problems**\n"
   ]
  },
  {
   "cell_type": "markdown",
   "metadata": {},
   "source": [
    "## **Why Do we need Conditions in Programming?**\n",
    "\n",
    "in real-life we **make decisions all the time** based on certain conditions\n",
    "\n",
    "- if it **rains** we **take an umbrella**\n",
    "- if we are **hungry** we **eat food**\n",
    "- if the battery is **low** we **charge the phone**\n",
    "\n",
    "Computers also **need to make decsions** when running a program \n",
    "\n",
    "This is where **Conditional statements** help!\n"
   ]
  },
  {
   "cell_type": "markdown",
   "metadata": {},
   "source": [
    "## **Real-World Analogy : Trafic Signals**\n",
    "\n",
    "imagine you are driving a car and reach a traffic signal\n",
    "\n",
    "1. If the **light is green** , You **GO**\n",
    "2. If the **light is red** , You **STOP**\n",
    "3. If the **light is yellow** , you **SLOW DOWN and PREPARE TO STOP**\n",
    "\n",
    "Just like Traffic signals control **MOVEMENT** based on **CONDITIONS**, Programming Conditions control **HOW CODE EXECUTE**\n",
    "\n",
    "**IMPORTANT NOTE:** How `if` - `elif` - `else` evaluate the Conditions\n",
    "\n",
    "Python `if`-`elif`-`else` structure works by evaluating conditions one by one in sequence ,Each Condition must ultimately ressolve to eaither `True` or `False`\n",
    " \n",
    "- If codition is `True` Python execute that block and skip the rest \n",
    "- If all conditions are `False` , the `else` block executes if present \n",
    "- Only one condition is executed in `if`-`elif`-`else` chain\n",
    "  \n",
    "\n"
   ]
  },
  {
   "cell_type": "code",
   "execution_count": 1,
   "metadata": {},
   "outputs": [
    {
     "name": "stdout",
     "output_type": "stream",
     "text": [
      "Cars can GO\n"
     ]
    }
   ],
   "source": [
    "# Traffic Light Example: Controlling Trafic Based on Light Colors\n",
    "\n",
    "#Define the trafic light color\n",
    "traffic_light=\"Green\"\n",
    "\n",
    "#check the Condition\n",
    "if traffic_light==\"Green\":\n",
    "    print(\"Cars can GO\") "
   ]
  },
  {
   "cell_type": "code",
   "execution_count": 2,
   "metadata": {},
   "outputs": [
    {
     "name": "stdout",
     "output_type": "stream",
     "text": [
      "Cars should STOP\n"
     ]
    }
   ],
   "source": [
    "#Define the trafic light color\n",
    "traffic_light=\"Red\"\n",
    "\n",
    "#check the Condition\n",
    "if traffic_light==\"Green\": # if traffic light is green then cars can go\n",
    "    print(\"Cars can GO\")\n",
    "else:\n",
    "    print(\"Cars should STOP\") # if traffic light is red or any other color then cars should stop"
   ]
  },
  {
   "cell_type": "code",
   "execution_count": 3,
   "metadata": {},
   "outputs": [
    {
     "name": "stdout",
     "output_type": "stream",
     "text": [
      "Cars should SLOW DOWN\n"
     ]
    }
   ],
   "source": [
    "traffic_light=\"Yellow\"\n",
    "\n",
    "if traffic_light==\"Green\":\n",
    "    print(\"Cars can GO\")\n",
    "elif traffic_light==\"Red\":\n",
    "    print(\"Cars should STOP\")\n",
    "else:\n",
    "    print(\"Cars should SLOW DOWN\")\n",
    "   "
   ]
  },
  {
   "cell_type": "markdown",
   "metadata": {},
   "source": [
    "## **Using Logical Operators `and`,`or`,`not` with `if` Statements**\n",
    "\n",
    "Logical Operators allow us to combine multiple conditions\n",
    "\n",
    "- `and` returns `True` if **both** conditions are `True`\n",
    "- `or` returns `True` if **atleast one condition is** `True`\n",
    "- `not` reverse the `conditions`"
   ]
  },
  {
   "cell_type": "code",
   "execution_count": 4,
   "metadata": {},
   "outputs": [
    {
     "name": "stdout",
     "output_type": "stream",
     "text": [
      "Pedisterian should wait\n"
     ]
    }
   ],
   "source": [
    "# Traffic light example using AND : Checking if pedisterian can cross safely\n",
    "\n",
    "#defining the pedisterian signal status\n",
    "\n",
    "pedisterian_signal=\"Flasing\"\n",
    "\n",
    "if pedisterian_signal==\"walk\" and pedisterian_signal!=\"Flasing\":\n",
    "    print(\"Pedisterian can cross the road\")\n",
    "else:\n",
    "    print(\"Pedisterian should wait\")"
   ]
  },
  {
   "cell_type": "code",
   "execution_count": 5,
   "metadata": {},
   "outputs": [
    {
     "name": "stdout",
     "output_type": "stream",
     "text": [
      "Vehicle can pass\n"
     ]
    }
   ],
   "source": [
    "# Traffic light example using OR : allowing emergency vehicle to pass\n",
    "\n",
    "traffic_light=\"Red\"\n",
    "vehicle_type=\"Ambulance\"\n",
    "\n",
    "if traffic_light==\"green\" or vehicle_type==\"Ambulance\":\n",
    "    print(\"Vehicle can pass\")\n",
    "else:\n",
    "    print(\"Vehicle should wait\")"
   ]
  },
  {
   "cell_type": "code",
   "execution_count": null,
   "metadata": {},
   "outputs": [],
   "source": [
    "#Traffic light example using NOT: ensuring no unauthorized crossing \n",
    "\n",
    "pedisterian_signal=\"Dont-walk\"\n",
    "\n",
    "if not pedisterian_signal==\"walk\":\n",
    "    print(\"Pedisterian should not cross\")\n",
    "else:\n",
    "    print(\"Pedisterian can cross\")\n",
    "    \n"
   ]
  },
  {
   "cell_type": "markdown",
   "metadata": {},
   "source": [
    "## **Nested Conditions**\n",
    "\n",
    "Sometimes decisions depends on **multiple level of conditions**. We can nest `if` statements inside another `if` statement\n",
    "\n"
   ]
  },
  {
   "cell_type": "code",
   "execution_count": 7,
   "metadata": {},
   "outputs": [
    {
     "name": "stdout",
     "output_type": "stream",
     "text": [
      "You are following the traffic rules\n"
     ]
    }
   ],
   "source": [
    "#traffic light example : checking traffic rules compliance\n",
    "\n",
    "car_speed=60\n",
    "seat_belt=True\n",
    "\n",
    "#check if the driver is following the traffic rules\n",
    "if car_speed<=60:\n",
    "    if seat_belt:\n",
    "        print(\"You are following the traffic rules\")\n",
    "    else:\n",
    "        print(\"Please wear the seat belt\")\n",
    "else:\n",
    "    print(\"You are over speeding\")"
   ]
  },
  {
   "cell_type": "code",
   "execution_count": 8,
   "metadata": {},
   "outputs": [
    {
     "name": "stdout",
     "output_type": "stream",
     "text": [
      "Cars can pass\n"
     ]
    }
   ],
   "source": [
    "# Traffic light example : Managing traffic flow at an intersection\n",
    "\n",
    "traffic_light=\"Green\"\n",
    "\n",
    "road_clear=True\n",
    "\n",
    "if traffic_light==\"Green\":\n",
    "    if road_clear:\n",
    "        print(\"Cars can pass\")\n",
    "    else:\n",
    "        print(\"Cars should wait\")\n",
    "elif traffic_light==\"yellow\":\n",
    "    print(\"Cars should slow down\")\n",
    "else:\n",
    "    print(\"Cars should stop\")"
   ]
  },
  {
   "cell_type": "code",
   "execution_count": null,
   "metadata": {},
   "outputs": [],
   "source": []
  }
 ],
 "metadata": {
  "kernelspec": {
   "display_name": "Python 3",
   "language": "python",
   "name": "python3"
  },
  "language_info": {
   "codemirror_mode": {
    "name": "ipython",
    "version": 3
   },
   "file_extension": ".py",
   "mimetype": "text/x-python",
   "name": "python",
   "nbconvert_exporter": "python",
   "pygments_lexer": "ipython3",
   "version": "3.10.16"
  }
 },
 "nbformat": 4,
 "nbformat_minor": 2
}
